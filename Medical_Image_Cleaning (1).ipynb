{
  "cells": [
    {
      "cell_type": "markdown",
      "metadata": {
        "id": "M6yBgCzdHULx"
      },
      "source": [
        "**MOUNTING GOOGLE DRIVE**"
      ]
    },
    {
      "cell_type": "code",
      "execution_count": null,
      "metadata": {
        "colab": {
          "base_uri": "https://localhost:8080/"
        },
        "id": "4rKPtlGsBeZI",
        "outputId": "6bc87e50-bba1-426e-c7da-aa76c8a09a43"
      },
      "outputs": [
        {
          "output_type": "stream",
          "name": "stdout",
          "text": [
            "Mounted at /content/drive\n"
          ]
        }
      ],
      "source": [
        "from google.colab import drive\n",
        "drive.mount('/content/drive')"
      ]
    },
    {
      "cell_type": "markdown",
      "metadata": {
        "id": "V2o-bUgMJj7R"
      },
      "source": [
        "**IMPORTING LIBRARIES**"
      ]
    },
    {
      "cell_type": "code",
      "execution_count": null,
      "metadata": {
        "id": "IidFAVQHBxNE"
      },
      "outputs": [],
      "source": [
        "import numpy as np\n",
        "import cv2\n",
        "import math\n",
        "import os\n",
        "from PIL import Image\n",
        "from tqdm import tqdm"
      ]
    },
    {
      "cell_type": "markdown",
      "source": [
        "Original Dimension of the Image:- (3584*2748)\n",
        "\n",
        "Height of the Image :- 3584\n",
        "\n",
        "Width(w) of the Image :- 2748\n",
        "\n",
        "Channels In the Image :- 3, i.e. (RGB)\n",
        "\n",
        "Modified Height of the Image:- 3456, \n",
        "\n",
        "so (Old h - New h) = (3584 - 3456) = 128/2 = 64 Hence, we have to reduce 64 from both ends of the image\n",
        "\n",
        "Modified Width of the Image:- 2688, \n",
        "\n",
        "so (Old w - New w) = (2748 - 2688) = 60/2 = 30 Hence, we have to reduce 30 from both ends of the image\n",
        "\n",
        "Therefore, the image will be cropped:- cropped_img = np_img[64:3520,30:2718,:]"
      ],
      "metadata": {
        "id": "DUmnLBrdx4YR"
      }
    },
    {
      "cell_type": "markdown",
      "metadata": {
        "id": "idKURS3v93pa"
      },
      "source": [
        "**GENERATING MULTIPLE IMAGES (VIA CROPPING)**"
      ]
    },
    {
      "cell_type": "code",
      "source": [
        "from skimage.io import imsave\n",
        "def crop_save(img, filename):\n",
        "  save_path = \"/content/drive/MyDrive/medicalImageDataset/ImageDataset(96*96)/\"\n",
        "  os.makedirs(save_path, exist_ok=True)\n",
        "  count = 0\n",
        "  for i in range(0,img.shape[0]//96):\n",
        "    for j in range(0,img.shape[1]//96):\n",
        "      xmin = 96*i\n",
        "      xmax = 96*i + 95\n",
        "      ymin = 96*j\n",
        "      ymax = 96*j + 95\n",
        "      #print(f\"image{count}: {xmin}, {xmax}, {ymin}, {ymax}\") #printing image number with their dimensions from original image\n",
        "      \n",
        "      #resized_img = cv2.resize(np_img,(new_width, new_height))\n",
        "      cropped_img = resized_img[xmin:xmax+1,ymin:ymax+1]\n",
        "      #count.append(cropped_img)\n",
        "      #cv2.imwrite(f\"sample{i},{j}.png\",cropped_img) # writing image to directory\n",
        "      imsave(f\"{save_path}{filename}_{xmin}_{xmax}_{ymin}_{ymax}.png\",cropped_img)\n",
        "      print(\"Count= {}\".format(count))\n",
        "      count+=1 # variable keeping count of number of images"
      ],
      "metadata": {
        "id": "5rU_n_6YgIDN"
      },
      "execution_count": null,
      "outputs": []
    },
    {
      "cell_type": "markdown",
      "source": [
        "**Pre-processes the Image by Cropping and Resizing**"
      ],
      "metadata": {
        "id": "5wcrADsbxO8C"
      }
    },
    {
      "cell_type": "code",
      "source": [
        "path = \"/content/drive/MyDrive/medicalImageDataset/T-19-22_ductal_CA\"\n",
        "for image in tqdm(os.listdir(path)):\n",
        "    if image.endswith(\".png\"):\n",
        "      img = Image.open(path + \"/\" + image)\n",
        "      np_img = np.array(img)\n",
        "      #print(np_img.shape) # (2748, 3584, 3)\n",
        "      cropped_img = np_img[30:2718,64:3520,:]\n",
        "      #print(cropped_img.shape) # (2688, 3456, 3)\n",
        "      h,w,_ = cropped_img.shape\n",
        "      resized_img = cv2.resize(np_img,dsize = (h//2,w//2),interpolation = cv2.INTER_NEAREST) # h=3584/2=1792 , w=2560/2= 1280\n",
        "      crop_save(resized_img, (\"_\").join(image.split('.')[:3]))\n",
        "\n",
        "# Original Image Dimension:- 2748 * 3584 (h*w)\n",
        "# for every image:-  7 times move right(1792/256=7) & 5 times move down (1280/256 = 5)\n",
        "# hence, for every image a total of 7*5 = 35 small images goes to dataset\n",
        "# 35 * 44 = 1540 images generated."
      ],
      "metadata": {
        "id": "vNqFEbHVgMGk"
      },
      "execution_count": null,
      "outputs": []
    },
    {
      "cell_type": "code",
      "execution_count": null,
      "metadata": {
        "id": "M_6ZQO4DSp-I"
      },
      "outputs": [],
      "source": [
        "from skimage.io import imsave\n",
        "def crop_save(img, filename):\n",
        "  save_path = \"/content/drive/MyDrive/Image Dataset/\"\n",
        "  os.makedirs(save_path, exist_ok=True)\n",
        "  count = 0\n",
        "  for i in range(0,img.shape[0]//96):\n",
        "    for j in range(0,img.shape[1]//96):\n",
        "      xmin = 256*i\n",
        "      xmax = 256*i + 255\n",
        "      ymin = 256*j\n",
        "      ymax = 256*j + 255\n",
        "      #print(f\"image{count}: {xmin}, {xmax}, {ymin}, {ymax}\") #printing image number with their dimensions from original image\n",
        "      count+=1 # variable keeping count of number of images\n",
        "      #resized_img = cv2.resize(np_img,(new_width, new_height))\n",
        "      cropped_img = resized_img[xmin:xmax+1,ymin:ymax+1]\n",
        "      #cv2.imwrite(f\"sample{i},{j}.png\",cropped_img) # writing image to directory\n",
        "      imsave(f\"{save_path}{filename}_{xmin}_{xmax}_{ymin}_{ymax}.png\",cropped_img)"
      ]
    },
    {
      "cell_type": "code",
      "source": [
        "print(len(count))"
      ],
      "metadata": {
        "id": "3NCRxnuO7TSx"
      },
      "execution_count": null,
      "outputs": []
    },
    {
      "cell_type": "markdown",
      "metadata": {
        "id": "lTDQB9mt-Pj5"
      },
      "source": [
        "**DRIVER SECTION**"
      ]
    },
    {
      "cell_type": "code",
      "execution_count": null,
      "metadata": {
        "colab": {
          "base_uri": "https://localhost:8080/"
        },
        "id": "TrDyr7anaxQY",
        "outputId": "8e15f0c9-e46f-4aa7-dfd1-f18e07cfac27"
      },
      "outputs": [
        {
          "name": "stderr",
          "output_type": "stream",
          "text": [
            "\r  0%|          | 0/3 [00:00<?, ?it/s]/usr/local/lib/python3.7/dist-packages/ipykernel_launcher.py:17: UserWarning: /content/drive/MyDrive/Image Dataset/1_0_0_0_255_256_511.png is a low contrast image\n",
            "/usr/local/lib/python3.7/dist-packages/ipykernel_launcher.py:17: UserWarning: /content/drive/MyDrive/Image Dataset/1_0_0_768_1023_1024_1279.png is a low contrast image\n",
            "/usr/local/lib/python3.7/dist-packages/ipykernel_launcher.py:17: UserWarning: /content/drive/MyDrive/Image Dataset/1_0_0_1024_1279_1024_1279.png is a low contrast image\n",
            "100%|██████████| 3/3 [00:04<00:00,  1.63s/it]\n"
          ]
        }
      ],
      "source": [
        "\"\"\"\n",
        "import os\n",
        "from PIL import Image\n",
        "import numpy as np\n",
        "import cv2\n",
        "from tqdm import tqdm\n",
        "\"\"\"\n",
        "path = '/content/drive/MyDrive/Test'\n",
        "\n",
        "for image in tqdm(os.listdir(path)):\n",
        "    if image.endswith(\".png\"):\n",
        "      img = Image.open(path + \"/\" + image)\n",
        "      np_img = np.array(img)\n",
        "      cropped_img = np_img[:,94:2654,:]\n",
        "      h,w,_ = cropped_img.shape\n",
        "      resized_img = cv2.resize(np_img,dsize = (h//2,w//2),interpolation = cv2.INTER_NEAREST) # h=3584/2=1792 , w=2560/2= 1280\n",
        "      crop_save(resized_img, (\"_\").join(image.split('.')[:3]))\n",
        "\n",
        "# Original Image Dimension:- 3584 * 2748\n",
        "# for every image:-  7 times move right(1792/256=7) & 5 times move down (1280/256 = 5)\n",
        "# hence, for every image a total of 7*5 = 35 small images goes to dataset\n",
        "# 35 * 44 = 1540 images generated."
      ]
    },
    {
      "cell_type": "code",
      "execution_count": null,
      "metadata": {
        "colab": {
          "base_uri": "https://localhost:8080/"
        },
        "id": "smv6EsFxvkOZ",
        "outputId": "98120157-8505-430e-da1b-7ce1440a17c8"
      },
      "outputs": [
        {
          "name": "stderr",
          "output_type": "stream",
          "text": [
            "100%|██████████| 3/3 [00:00<00:00,  8.46it/s]"
          ]
        },
        {
          "name": "stdout",
          "output_type": "stream",
          "text": [
            "(2748, 3584, 3)\n",
            "(1792, 1280, 3)\n",
            "(255, 255, 3)\n",
            "(127, 80, 3)\n",
            "(255, 255, 3)\n",
            "(127, 80, 3)\n"
          ]
        },
        {
          "name": "stderr",
          "output_type": "stream",
          "text": [
            "\n"
          ]
        }
      ],
      "source": [
        "\"\"\"path = '/content/drive/MyDrive/Test'\n",
        "\n",
        "for image in tqdm(os.listdir(path)):\n",
        "    if image.endswith(\".png\"):\n",
        "      img = Image.open(path + \"/\" + image)\n",
        "      np_img = np.array(img)\n",
        "      print(np_img.shape)\n",
        "      cropped_img = np_img[94:2654,:,:]\n",
        "      h,w,_ = cropped_img.shape\n",
        "      resized_img = cv2.resize(np_img,dsize = (h//2,w//2),interpolation = cv2.INTER_NEAREST)\n",
        "      print(resized_img.shape)\n",
        "      #crop_save(resized_img, (\"_\").join(image.split('.')[:3]))\"\"\""
      ]
    },
    {
      "cell_type": "code",
      "execution_count": null,
      "metadata": {
        "colab": {
          "background_save": true,
          "base_uri": "https://localhost:8080/"
        },
        "id": "LoGJCQnV6tPV",
        "outputId": "976bfca6-7aad-4781-961c-652a5891fe71"
      },
      "outputs": [
        {
          "name": "stderr",
          "output_type": "stream",
          "text": [
            "100%|██████████| 3/3 [00:00<00:00,  8.44it/s]"
          ]
        },
        {
          "name": "stdout",
          "output_type": "stream",
          "text": [
            "(2748, 3584, 3) initial\n",
            "(1280, 1374, 3) last\n",
            "(255, 255, 3) initial\n",
            "(80, 127, 3) last\n",
            "(255, 255, 3) initial\n",
            "(80, 127, 3) last\n"
          ]
        },
        {
          "name": "stderr",
          "output_type": "stream",
          "text": [
            "\n"
          ]
        }
      ],
      "source": [
        "\"\"\"path = '/content/drive/MyDrive/Test'\n",
        "\n",
        "for image in tqdm(os.listdir(path)):\n",
        "    if image.endswith(\".png\"):\n",
        "      img = Image.open(path + \"/\" + image)\n",
        "      np_img = np.array(img)\n",
        "      print(f\"{np_img.shape}\")\n",
        "      cropped_img = np_img[:,94:2654,:]\n",
        "      h,w,_ = cropped_img.shape\n",
        "      resized_img = cv2.resize(np_img,dsize = (h//2,w//2),interpolation = cv2.INTER_NEAREST)\n",
        "      print(f\"{resized_img.shape} last\")\n",
        "      #crop_save(resized_img, (\"_\").join(image.split('.')[:3]))\"\"\""
      ]
    }
  ],
  "metadata": {
    "colab": {
      "provenance": []
    },
    "kernelspec": {
      "display_name": "Python 3",
      "name": "python3"
    },
    "language_info": {
      "name": "python"
    }
  },
  "nbformat": 4,
  "nbformat_minor": 0
}